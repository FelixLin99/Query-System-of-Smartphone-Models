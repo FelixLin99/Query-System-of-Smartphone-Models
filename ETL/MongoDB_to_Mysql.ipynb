{
 "cells": [
  {
   "cell_type": "code",
   "execution_count": 1,
   "metadata": {},
   "outputs": [],
   "source": [
    "from pymongo import MongoClient\n",
    "import pymongo\n",
    "import pymysql\n",
    "import time"
   ]
  },
  {
   "cell_type": "code",
   "execution_count": 2,
   "metadata": {},
   "outputs": [],
   "source": [
    "#链接MongoDB客户端\n",
    "mongo_client = pymongo.MongoClient(host='localhost',port=27017)  #连接本地的服务端\n",
    "mongo_db = mongo_client.smartphone  #指定操作的数据库\n",
    "mongo_coll = mongo_db[\"T1_SMTPH_Zollfo_4\"]\n",
    "\n",
    "#连接Mysql客户端\n",
    "mysql_client = pymysql.connect(host=\"localhost\",user=\"root\",password=\"711401\",database=\"smartphone\",charset=\"utf8mb4\")\n",
    "cursor = mysql_client.cursor()#定义mysql数据库的游标"
   ]
  },
  {
   "cell_type": "code",
   "execution_count": 3,
   "metadata": {},
   "outputs": [],
   "source": [
    "sql = \"INSERT INTO t_SMTPH (name, brand, price, battery, release_date) VALUES (%s,%s,%s,%s,%s);\"\n",
    "for i in mongo_coll.find().batch_size(30):\n",
    "    name = i[\"title\"] \n",
    "    brand = i[\"brand\"] \n",
    "    price = i[\"price\"] \n",
    "    battery = i[\"battery_vol\"] \n",
    "    release_date = i[\"release_date\"]\n",
    "    par = (name, brand, price, battery, release_date)\n",
    "    try:\n",
    "        cursor.execute(sql, par)\n",
    "        mysql_client.commit()\n",
    "    except Exception as e:\n",
    "        mysql_client.rollback()\n",
    "        print(e)\n",
    "cursor.close()\n",
    "mongo_client.close()"
   ]
  },
  {
   "cell_type": "code",
   "execution_count": null,
   "metadata": {},
   "outputs": [],
   "source": []
  }
 ],
 "metadata": {
  "kernelspec": {
   "display_name": "Python 3",
   "language": "python",
   "name": "python3"
  },
  "language_info": {
   "codemirror_mode": {
    "name": "ipython",
    "version": 3
   },
   "file_extension": ".py",
   "mimetype": "text/x-python",
   "name": "python",
   "nbconvert_exporter": "python",
   "pygments_lexer": "ipython3",
   "version": "3.8.5"
  }
 },
 "nbformat": 4,
 "nbformat_minor": 4
}
