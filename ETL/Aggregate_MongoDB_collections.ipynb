{
 "cells": [
  {
   "cell_type": "code",
   "execution_count": 10,
   "metadata": {},
   "outputs": [],
   "source": [
    "import pandas as pd\n",
    "import requests\n",
    "from bs4 import BeautifulSoup\n",
    "import pymongo\n",
    "import json\n",
    "import datetime\n",
    "import time\n",
    "import re\n",
    "from lxml import etree"
   ]
  },
  {
   "cell_type": "code",
   "execution_count": 11,
   "metadata": {},
   "outputs": [],
   "source": [
    "#建立MongoDB客户端\n",
    "mongo_client =pymongo.MongoClient(host='localhost',port=27017)  #连接本地的服务端\n",
    "mongo_db=mongo_client.smartphone  #指定操作的数据库\n",
    "mongo_coll_1 = mongo_db[\"T1_SMTPH_Zollfo_1\"]\n",
    "mongo_coll_2 = mongo_db[\"T1_SMTPH_Zollfo_2\"]\n",
    "mongo_coll_3 = mongo_db[\"T1_SMTPH_Zollfo_3\"]"
   ]
  },
  {
   "cell_type": "code",
   "execution_count": 12,
   "metadata": {},
   "outputs": [
    {
     "data": {
      "text/plain": [
       "<pymongo.command_cursor.CommandCursor at 0x28c74c8f6a0>"
      ]
     },
     "execution_count": 12,
     "metadata": {},
     "output_type": "execute_result"
    }
   ],
   "source": [
    "mongo_coll_2.aggregate([\n",
    "            {\"$lookup\":{\n",
    "                    \"localField\": \"index_zol\",\n",
    "                    \"from\": \"T1_SMTPH_Zollfo_3\",  \n",
    "                    \"foreignField\": \"index_zol\",\n",
    "                    \"as\": \"model_info\" \n",
    "                    }},\n",
    "            {\"$unwind\":\"$model_info\"},\n",
    "            {\"$replaceRoot\":{\n",
    "                    \"newRoot\":{\n",
    "                            \"$mergeObjects\":[\n",
    "                                    {\"hist_date\":\"$hist_date\",\n",
    "                                    \"brand\":\"$brand\",\n",
    "                                    \"title\":\"$title\",\n",
    "                                    \"price\":\"$price\",\n",
    "                                    \"url\":\"$url\",\n",
    "                                    \"create_time\":\"$create_time\",\n",
    "                                    \"update_time\":\"$update_time\"\n",
    "                                    },\n",
    "                                \"$model_info\"\n",
    "                                ]}}},\n",
    "            {\"$unset\": \"_id\"},\n",
    "            {\"$project\":{\n",
    "                \"_id\":1,\n",
    "                \"index_zol\":1,\n",
    "                \"brand\":1,\n",
    "                \"title\":1,\n",
    "                \"price\":1,\n",
    "                \"battery_vol\":1,\n",
    "                \"release_date\":1,\n",
    "                \"update_time\":1\n",
    "            }},\n",
    "            {\"$out\":\"T1_SMTPH_Zollfo_4\"}     \n",
    "            ])"
   ]
  }
 ],
 "metadata": {
  "kernelspec": {
   "display_name": "Python 3",
   "language": "python",
   "name": "python3"
  },
  "language_info": {
   "codemirror_mode": {
    "name": "ipython",
    "version": 3
   },
   "file_extension": ".py",
   "mimetype": "text/x-python",
   "name": "python",
   "nbconvert_exporter": "python",
   "pygments_lexer": "ipython3",
   "version": "3.8.5"
  }
 },
 "nbformat": 4,
 "nbformat_minor": 4
}
